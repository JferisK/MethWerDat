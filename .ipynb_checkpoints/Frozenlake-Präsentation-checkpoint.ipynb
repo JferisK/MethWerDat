{
 "cells": [
  {
   "cell_type": "markdown",
   "metadata": {},
   "source": [
    "# Q* Learning with FrozenLake 🕹️⛄\n",
    "<br> \n",
    "In this Notebook, we'll implement an agent <b>that plays FrozenLake.</b>\n",
    "\n",
    "The goal of this game is <b>to go from the starting state (S) to the goal state (G)</b> by walking only on frozen tiles (F) and avoid holes (H).However, the ice is slippery, <b>so you won't always move in the direction you intend (stochastic environment)</b>"
   ]
  },
  {
   "cell_type": "markdown",
   "metadata": {},
   "source": [
    "## Prerequisites 🏗️\n",
    "Before diving on the notebook **you need to understand**:\n",
    "- The foundations of Reinforcement learning (MC, TD, Rewards hypothesis...) [Article](https://medium.freecodecamp.org/an-introduction-to-reinforcement-learning-4339519de419)\n",
    "- Q-learning [Article](https://medium.freecodecamp.org/diving-deeper-into-reinforcement-learning-with-q-learning-c18d0db58efe)\n",
    "- In the [video version](https://www.youtube.com/watch?v=q2ZOEFAaaI0)  we implemented a Q-learning agent that learns to play OpenAI Taxi-v2 🚕 with Numpy."
   ]
  },
  {
   "cell_type": "markdown",
   "metadata": {},
   "source": [
    "## Step 0: Import the dependencies 📚\n",
    "We use 3 libraries:\n",
    "- `Numpy` for our Qtable\n",
    "- `OpenAI Gym` for our FrozenLake Environment\n",
    "- `Random` to generate random numbers"
   ]
  },
  {
   "cell_type": "code",
   "execution_count": 1,
   "metadata": {},
   "outputs": [],
   "source": [
    "import numpy as np\n",
    "import gym\n",
    "import random\n",
    "import time"
   ]
  },
  {
   "cell_type": "markdown",
   "metadata": {},
   "source": [
    "## Step 1: Create the environment 🎮\n",
    "- Here we'll create the FrozenLake environment. \n",
    "- OpenAI Gym is a library <b> composed of many environments that we can use to train our agents.</b>\n",
    "- In our case we choose to use Frozen Lake."
   ]
  },
  {
   "cell_type": "code",
   "execution_count": 2,
   "metadata": {},
   "outputs": [],
   "source": [
    "env = gym.make(\"FrozenLake-v1\",map_name=\"8x8\")"
   ]
  },
  {
   "cell_type": "markdown",
   "metadata": {},
   "source": [
    "## Step 2: Create the Q-table and initialize it 🗄️\n",
    "- Now, we'll create our Q-table, to know how much rows (states) and columns (actions) we need, we need to calculate the action_size and the state_size\n",
    "- OpenAI Gym provides us a way to do that: `env.action_space.n` and `env.observation_space.n`"
   ]
  },
  {
   "cell_type": "code",
   "execution_count": 3,
   "metadata": {},
   "outputs": [],
   "source": [
    "action_size = env.action_space.n\n",
    "state_size = env.observation_space.n"
   ]
  },
  {
   "cell_type": "code",
   "execution_count": 4,
   "metadata": {},
   "outputs": [
    {
     "name": "stdout",
     "output_type": "stream",
     "text": [
      "[[0. 0. 0. 0.]\n",
      " [0. 0. 0. 0.]\n",
      " [0. 0. 0. 0.]\n",
      " [0. 0. 0. 0.]\n",
      " [0. 0. 0. 0.]\n",
      " [0. 0. 0. 0.]\n",
      " [0. 0. 0. 0.]\n",
      " [0. 0. 0. 0.]\n",
      " [0. 0. 0. 0.]\n",
      " [0. 0. 0. 0.]\n",
      " [0. 0. 0. 0.]\n",
      " [0. 0. 0. 0.]\n",
      " [0. 0. 0. 0.]\n",
      " [0. 0. 0. 0.]\n",
      " [0. 0. 0. 0.]\n",
      " [0. 0. 0. 0.]\n",
      " [0. 0. 0. 0.]\n",
      " [0. 0. 0. 0.]\n",
      " [0. 0. 0. 0.]\n",
      " [0. 0. 0. 0.]\n",
      " [0. 0. 0. 0.]\n",
      " [0. 0. 0. 0.]\n",
      " [0. 0. 0. 0.]\n",
      " [0. 0. 0. 0.]\n",
      " [0. 0. 0. 0.]\n",
      " [0. 0. 0. 0.]\n",
      " [0. 0. 0. 0.]\n",
      " [0. 0. 0. 0.]\n",
      " [0. 0. 0. 0.]\n",
      " [0. 0. 0. 0.]\n",
      " [0. 0. 0. 0.]\n",
      " [0. 0. 0. 0.]\n",
      " [0. 0. 0. 0.]\n",
      " [0. 0. 0. 0.]\n",
      " [0. 0. 0. 0.]\n",
      " [0. 0. 0. 0.]\n",
      " [0. 0. 0. 0.]\n",
      " [0. 0. 0. 0.]\n",
      " [0. 0. 0. 0.]\n",
      " [0. 0. 0. 0.]\n",
      " [0. 0. 0. 0.]\n",
      " [0. 0. 0. 0.]\n",
      " [0. 0. 0. 0.]\n",
      " [0. 0. 0. 0.]\n",
      " [0. 0. 0. 0.]\n",
      " [0. 0. 0. 0.]\n",
      " [0. 0. 0. 0.]\n",
      " [0. 0. 0. 0.]\n",
      " [0. 0. 0. 0.]\n",
      " [0. 0. 0. 0.]\n",
      " [0. 0. 0. 0.]\n",
      " [0. 0. 0. 0.]\n",
      " [0. 0. 0. 0.]\n",
      " [0. 0. 0. 0.]\n",
      " [0. 0. 0. 0.]\n",
      " [0. 0. 0. 0.]\n",
      " [0. 0. 0. 0.]\n",
      " [0. 0. 0. 0.]\n",
      " [0. 0. 0. 0.]\n",
      " [0. 0. 0. 0.]\n",
      " [0. 0. 0. 0.]\n",
      " [0. 0. 0. 0.]\n",
      " [0. 0. 0. 0.]\n",
      " [0. 0. 0. 0.]]\n"
     ]
    }
   ],
   "source": [
    "qtable = np.zeros((state_size, action_size))\n",
    "print(qtable)"
   ]
  },
  {
   "cell_type": "markdown",
   "metadata": {},
   "source": [
    "## Step 3: Create the hyperparameters ⚙️\n",
    "- Here, we'll specify the hyperparameters"
   ]
  },
  {
   "cell_type": "code",
   "execution_count": 5,
   "metadata": {},
   "outputs": [],
   "source": [
    "total_episodes = 30000        # Total episodes\n",
    "learning_rate = 0.65           # Learning rate\n",
    "max_steps = 500                # Max steps per episode\n",
    "gamma = 0.95                  # Discounting rate\n",
    "\n",
    "# Exploration parameters\n",
    "epsilon = 1.0                 # Exploration rate\n",
    "max_epsilon = 1.0             # Exploration probability at start\n",
    "min_epsilon = 0.01            # Minimum exploration probability \n",
    "decay_rate = 0.0001             # Exponential decay rate for exploration prob"
   ]
  },
  {
   "cell_type": "markdown",
   "metadata": {},
   "source": [
    "## Step 4: The Q learning algorithm 🧠\n",
    "- Now we implement the Q learning algorithm:"
   ]
  },
  {
   "cell_type": "code",
   "execution_count": 6,
   "metadata": {},
   "outputs": [
    {
     "name": "stdout",
     "output_type": "stream",
     "text": [
      "Score over time: 0.09426666666666667\n",
      "[[1.66100085e-02 1.63313685e-02 1.67180799e-02 1.64664646e-02]\n",
      " [1.84978625e-02 1.82102235e-02 2.02161102e-02 1.86063713e-02]\n",
      " [2.13128049e-02 2.14955531e-02 2.09344903e-02 2.14853028e-02]\n",
      " [2.43009224e-02 2.71082111e-02 4.04057114e-02 2.46598377e-02]\n",
      " [3.61421780e-02 4.27839721e-02 5.11417840e-02 4.45471050e-02]\n",
      " [5.41098288e-02 6.71128175e-02 6.29634569e-02 6.02682325e-02]\n",
      " [7.26656729e-02 7.36941114e-02 7.44523898e-02 7.16774872e-02]\n",
      " [7.73834984e-02 7.98297958e-02 8.37555868e-02 7.89837411e-02]\n",
      " [1.65891585e-02 1.65167136e-02 1.98183851e-02 1.65932012e-02]\n",
      " [1.70542580e-02 1.73034103e-02 2.95899318e-02 1.78356672e-02]\n",
      " [1.94657296e-02 1.96968326e-02 3.27649071e-02 1.86868723e-02]\n",
      " [1.76721525e-02 2.02677357e-02 1.46713525e-02 4.27263992e-02]\n",
      " [4.20738757e-02 3.04331667e-02 5.40611986e-02 4.38378502e-02]\n",
      " [5.24770428e-02 4.29545567e-02 6.29705334e-02 5.63540535e-02]\n",
      " [7.18440339e-02 6.90976948e-02 8.49891691e-02 6.67340792e-02]\n",
      " [7.76528510e-02 8.12432841e-02 8.16389201e-02 8.12075473e-02]\n",
      " [1.65468310e-02 1.63819978e-02 1.60532937e-02 1.68685689e-02]\n",
      " [1.69830454e-02 9.61461356e-03 1.53019563e-02 1.75586249e-02]\n",
      " [1.20097827e-02 7.00918157e-03 1.11053510e-02 6.92260167e-03]\n",
      " [0.00000000e+00 0.00000000e+00 0.00000000e+00 0.00000000e+00]\n",
      " [4.20597258e-03 1.02679683e-02 6.31006985e-02 7.93260017e-03]\n",
      " [2.12615776e-02 2.93973051e-02 2.37025170e-02 4.92808466e-02]\n",
      " [6.71083523e-02 5.63111287e-02 8.18432262e-02 7.43783818e-02]\n",
      " [1.00888795e-01 8.53783139e-02 8.20473097e-02 8.38496714e-02]\n",
      " [1.43689577e-02 1.39393473e-02 1.33943888e-02 1.37533225e-02]\n",
      " [6.85964390e-03 1.16801529e-02 9.00246871e-03 1.99447792e-02]\n",
      " [7.42663877e-03 6.99970867e-03 5.80976452e-03 3.48388826e-02]\n",
      " [2.97047327e-04 1.49158218e-02 4.52670833e-04 1.19471831e-03]\n",
      " [7.75748451e-02 2.05544361e-03 3.19140075e-03 7.01440084e-03]\n",
      " [0.00000000e+00 0.00000000e+00 0.00000000e+00 0.00000000e+00]\n",
      " [3.68961686e-02 4.38311989e-02 1.17859833e-01 4.35529205e-02]\n",
      " [2.40771397e-01 1.30551762e-01 1.12827082e-01 1.08964522e-01]\n",
      " [5.99518263e-03 6.10773063e-03 4.75694707e-03 1.59626479e-02]\n",
      " [1.52268822e-03 1.42434783e-03 1.10621296e-03 1.58444297e-02]\n",
      " [2.60152362e-03 2.31634651e-05 4.73512450e-04 3.54956000e-05]\n",
      " [0.00000000e+00 0.00000000e+00 0.00000000e+00 0.00000000e+00]\n",
      " [3.97830989e-03 2.85177179e-03 8.67010375e-02 3.80643801e-03]\n",
      " [2.60936678e-02 7.92719950e-02 1.42016297e-02 7.89037566e-03]\n",
      " [6.17509080e-02 1.11046507e-03 3.52748803e-02 2.68371614e-01]\n",
      " [1.66167572e-01 1.03648709e-01 5.07599445e-01 1.22176199e-01]\n",
      " [6.15011900e-03 2.84037278e-03 1.48388945e-03 2.65059173e-03]\n",
      " [0.00000000e+00 0.00000000e+00 0.00000000e+00 0.00000000e+00]\n",
      " [0.00000000e+00 0.00000000e+00 0.00000000e+00 0.00000000e+00]\n",
      " [4.83290970e-06 4.24223873e-05 1.34480518e-03 9.31351649e-08]\n",
      " [1.07201296e-03 1.66254628e-03 1.45275549e-03 1.42449960e-01]\n",
      " [1.22127852e-01 2.62667712e-03 3.70850614e-03 3.46545945e-03]\n",
      " [0.00000000e+00 0.00000000e+00 0.00000000e+00 0.00000000e+00]\n",
      " [2.45577747e-02 1.52230676e-01 8.41160700e-01 1.18059142e-01]\n",
      " [2.71984217e-03 7.03546528e-04 5.11274171e-04 7.95209038e-04]\n",
      " [0.00000000e+00 0.00000000e+00 0.00000000e+00 0.00000000e+00]\n",
      " [5.14382488e-05 6.80278033e-04 2.34470326e-05 3.98128895e-05]\n",
      " [2.38849896e-04 3.73722268e-05 1.44934020e-04 9.58068813e-05]\n",
      " [0.00000000e+00 0.00000000e+00 0.00000000e+00 0.00000000e+00]\n",
      " [2.36534715e-01 1.14516848e-04 1.02293191e-01 1.41836206e-06]\n",
      " [0.00000000e+00 0.00000000e+00 0.00000000e+00 0.00000000e+00]\n",
      " [2.09348958e-01 3.42272567e-01 5.63357818e-01 2.81112013e-02]\n",
      " [2.38999476e-03 1.38814508e-03 1.69910497e-03 1.90289735e-03]\n",
      " [4.84820298e-04 3.79880356e-04 2.55091118e-04 3.13624797e-04]\n",
      " [1.50837287e-04 7.28613084e-04 7.15408660e-05 1.92734906e-04]\n",
      " [0.00000000e+00 0.00000000e+00 0.00000000e+00 0.00000000e+00]\n",
      " [2.71508030e-03 3.65571998e-03 1.84696356e-01 0.00000000e+00]\n",
      " [1.81315712e-01 4.76389390e-02 3.65631966e-01 2.29015470e-01]\n",
      " [7.07661835e-02 8.78485820e-01 1.11485441e-01 3.40462567e-02]\n",
      " [0.00000000e+00 0.00000000e+00 0.00000000e+00 0.00000000e+00]]\n"
     ]
    }
   ],
   "source": [
    "# List of rewards\n",
    "rewards = []\n",
    "\n",
    "# 2 For life or until learning is stopped\n",
    "for episode in range(total_episodes):\n",
    "    # Reset the environment\n",
    "    state = env.reset()[0]\n",
    "    step = 0\n",
    "    done = False\n",
    "    total_rewards = 0\n",
    "    \n",
    "    for step in range(max_steps):\n",
    "        # 3. Choose an action a in the current world state (s)\n",
    "        ## First we randomize a number\n",
    "        exp_exp_tradeoff = random.uniform(0, 1)\n",
    "        \n",
    "        ## If this number > greater than epsilon --> exploitation (taking the biggest Q value for this state)\n",
    "        if exp_exp_tradeoff > epsilon:\n",
    "            action = np.argmax(qtable[state,:])\n",
    "\n",
    "        # Else doing a random choice --> exploration\n",
    "        else:\n",
    "            action = env.action_space.sample()\n",
    "\n",
    "        # Take the action (a) and observe the outcome state(s') and reward (r)\n",
    "        new_state, reward, done, truncated,info = env.step(action)\n",
    "\n",
    "        # Update Q(s,a):= Q(s,a) + lr [R(s,a) + gamma * max Q(s',a') - Q(s,a)]\n",
    "        # qtable[new_state,:] : all the actions we can take from new state\n",
    "        qtable[state, action] = qtable[state, action] + learning_rate * (reward + gamma * np.max(qtable[new_state,:]) - qtable[state, action])\n",
    "        \n",
    "        total_rewards += reward\n",
    "        \n",
    "        # Our new state is state\n",
    "        state = new_state\n",
    "        \n",
    "        # If done (if we're dead) : finish episode\n",
    "        if done == True: \n",
    "            break\n",
    "        \n",
    "    # Reduce epsilon (because we need less and less exploration)\n",
    "    epsilon = min_epsilon + (max_epsilon - min_epsilon)*np.exp(-decay_rate*episode) \n",
    "    rewards.append(total_rewards)\n",
    "\n",
    "print (\"Score over time: \" +  str(sum(rewards)/total_episodes))\n",
    "print(qtable)"
   ]
  },
  {
   "cell_type": "markdown",
   "metadata": {},
   "source": [
    "## Step 5: Use our Q-table to play FrozenLake ! 👾"
   ]
  },
  {
   "cell_type": "code",
   "execution_count": 7,
   "metadata": {},
   "outputs": [
    {
     "name": "stderr",
     "output_type": "stream",
     "text": [
      "C:\\Users\\fromm\\Anaconda3\\lib\\site-packages\\gym\\envs\\toy_text\\frozen_lake.py:271: UserWarning: \u001b[33mWARN: You are calling render method without specifying any render mode. You can specify the render_mode at initialization, e.g. gym(\"FrozenLake-v1\", render_mode=\"rgb_array\")\u001b[0m\n",
      "  logger.warn(\n"
     ]
    },
    {
     "name": "stdout",
     "output_type": "stream",
     "text": [
      "Completionrate 0.648\n"
     ]
    }
   ],
   "source": [
    "env.reset()\n",
    "\n",
    "result = 0\n",
    "for episode in range(1000):\n",
    "    state = env.reset()[0]\n",
    "    step = 0\n",
    "    done = False\n",
    "    #print(\"****************************************************\")\n",
    "    #print(\"EPISODE \", episode+1)\n",
    "\n",
    "    for step in range(max_steps):\n",
    "        \n",
    "        # Take the action (index) that have the maximum expected future reward given that state\n",
    "        action = np.argmax(qtable[state,:])\n",
    "        \n",
    "        new_state, reward, done, truncated, info = env.step(action)\n",
    "        \n",
    "        if done:\n",
    "            # Here, we decide to only print the last state (to see if our agent is on the goal or fall into an hole)\n",
    "            env.render()\n",
    "            \n",
    "            result += reward\n",
    "            # We print the number of step it took.\n",
    "            #print(\"Number of steps\", step)\n",
    "            #print(\"Reward\",reward)\n",
    "            break\n",
    "        state = new_state\n",
    "\n",
    "print(\"Completionrate\",result/1000)\n",
    "env.close()"
   ]
  }
 ],
 "metadata": {
  "kernelspec": {
   "display_name": "Python 3",
   "language": "python",
   "name": "python3"
  },
  "language_info": {
   "codemirror_mode": {
    "name": "ipython",
    "version": 3
   },
   "file_extension": ".py",
   "mimetype": "text/x-python",
   "name": "python",
   "nbconvert_exporter": "python",
   "pygments_lexer": "ipython3",
   "version": "3.8.3"
  }
 },
 "nbformat": 4,
 "nbformat_minor": 2
}
