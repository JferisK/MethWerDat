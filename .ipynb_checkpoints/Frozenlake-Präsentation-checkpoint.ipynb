{
 "cells": [
  {
   "cell_type": "markdown",
   "metadata": {},
   "source": [
    "# Q* Learning with FrozenLake 🕹️⛄\n",
    "<br> \n",
    "In this Notebook, we'll implement an agent <b>that plays FrozenLake.</b>\n",
    "\n",
    "The goal of this game is <b>to go from the starting state (S) to the goal state (G)</b> by walking only on frozen tiles (F) and avoid holes (H).However, the ice is slippery, <b>so you won't always move in the direction you intend (stochastic environment)</b>"
   ]
  },
  {
   "cell_type": "markdown",
   "metadata": {},
   "source": [
    "## Step 0: Import the dependencies 📚\n",
    "We use 3 libraries:\n",
    "- `Numpy` for our Qtable\n",
    "- `OpenAI Gym` for our FrozenLake Environment\n",
    "- `Random` to generate random numbers"
   ]
  },
  {
   "cell_type": "code",
   "execution_count": 1,
   "metadata": {},
   "outputs": [],
   "source": [
    "import numpy as np\n",
    "import gym\n",
    "import random"
   ]
  },
  {
   "cell_type": "markdown",
   "metadata": {},
   "source": [
    "## Step 1: Create the environment 🎮\n",
    "- Here we'll create the FrozenLake environment. \n",
    "- OpenAI Gym is a library <b> composed of many environments that we can use to train our agents.</b>\n",
    "- In our case we choose to use Frozen Lake."
   ]
  },
  {
   "cell_type": "code",
   "execution_count": 2,
   "metadata": {},
   "outputs": [],
   "source": [
    "env = gym.make(\"FrozenLake-v1\",map_name=\"8x8\")"
   ]
  },
  {
   "cell_type": "markdown",
   "metadata": {},
   "source": [
    "## Step 2: Create the Q-table and initialize it 🗄️\n",
    "- Now, we'll create our Q-table, to know how much rows (states) and columns (actions) we need, we need to calculate the action_size and the state_size\n",
    "- OpenAI Gym provides us a way to do that: `env.action_space.n` and `env.observation_space.n`"
   ]
  },
  {
   "cell_type": "code",
   "execution_count": 3,
   "metadata": {},
   "outputs": [],
   "source": [
    "action_size = env.action_space.n\n",
    "state_size = env.observation_space.n"
   ]
  },
  {
   "cell_type": "code",
   "execution_count": 4,
   "metadata": {
    "scrolled": true
   },
   "outputs": [
    {
     "name": "stdout",
     "output_type": "stream",
     "text": [
      "[[0. 0. 0. 0.]\n",
      " [0. 0. 0. 0.]\n",
      " [0. 0. 0. 0.]\n",
      " [0. 0. 0. 0.]\n",
      " [0. 0. 0. 0.]\n",
      " [0. 0. 0. 0.]\n",
      " [0. 0. 0. 0.]\n",
      " [0. 0. 0. 0.]\n",
      " [0. 0. 0. 0.]\n",
      " [0. 0. 0. 0.]\n",
      " [0. 0. 0. 0.]\n",
      " [0. 0. 0. 0.]\n",
      " [0. 0. 0. 0.]\n",
      " [0. 0. 0. 0.]\n",
      " [0. 0. 0. 0.]\n",
      " [0. 0. 0. 0.]\n",
      " [0. 0. 0. 0.]\n",
      " [0. 0. 0. 0.]\n",
      " [0. 0. 0. 0.]\n",
      " [0. 0. 0. 0.]\n",
      " [0. 0. 0. 0.]\n",
      " [0. 0. 0. 0.]\n",
      " [0. 0. 0. 0.]\n",
      " [0. 0. 0. 0.]\n",
      " [0. 0. 0. 0.]\n",
      " [0. 0. 0. 0.]\n",
      " [0. 0. 0. 0.]\n",
      " [0. 0. 0. 0.]\n",
      " [0. 0. 0. 0.]\n",
      " [0. 0. 0. 0.]\n",
      " [0. 0. 0. 0.]\n",
      " [0. 0. 0. 0.]\n",
      " [0. 0. 0. 0.]\n",
      " [0. 0. 0. 0.]\n",
      " [0. 0. 0. 0.]\n",
      " [0. 0. 0. 0.]\n",
      " [0. 0. 0. 0.]\n",
      " [0. 0. 0. 0.]\n",
      " [0. 0. 0. 0.]\n",
      " [0. 0. 0. 0.]\n",
      " [0. 0. 0. 0.]\n",
      " [0. 0. 0. 0.]\n",
      " [0. 0. 0. 0.]\n",
      " [0. 0. 0. 0.]\n",
      " [0. 0. 0. 0.]\n",
      " [0. 0. 0. 0.]\n",
      " [0. 0. 0. 0.]\n",
      " [0. 0. 0. 0.]\n",
      " [0. 0. 0. 0.]\n",
      " [0. 0. 0. 0.]\n",
      " [0. 0. 0. 0.]\n",
      " [0. 0. 0. 0.]\n",
      " [0. 0. 0. 0.]\n",
      " [0. 0. 0. 0.]\n",
      " [0. 0. 0. 0.]\n",
      " [0. 0. 0. 0.]\n",
      " [0. 0. 0. 0.]\n",
      " [0. 0. 0. 0.]\n",
      " [0. 0. 0. 0.]\n",
      " [0. 0. 0. 0.]\n",
      " [0. 0. 0. 0.]\n",
      " [0. 0. 0. 0.]\n",
      " [0. 0. 0. 0.]\n",
      " [0. 0. 0. 0.]]\n"
     ]
    }
   ],
   "source": [
    "qtable = np.zeros((state_size, action_size))\n",
    "print(qtable)"
   ]
  },
  {
   "cell_type": "markdown",
   "metadata": {},
   "source": [
    "## Step 3: Create the hyperparameters ⚙️\n",
    "- Here, we'll specify the hyperparameters"
   ]
  },
  {
   "cell_type": "code",
   "execution_count": 5,
   "metadata": {},
   "outputs": [],
   "source": [
    "total_episodes = 30000        # Total episodes\n",
    "learning_rate = 0.65           # Learning rate\n",
    "max_steps = 500                # Max steps per episode\n",
    "gamma = 0.95                  # Discounting rate\n",
    "\n",
    "# Exploration parameters\n",
    "epsilon = 1.0                 # Exploration rate\n",
    "max_epsilon = 1.0             # Exploration probability at start\n",
    "min_epsilon = 0.01            # Minimum exploration probability \n",
    "decay_rate = 0.0001             # Exponential decay rate for exploration prob"
   ]
  },
  {
   "cell_type": "markdown",
   "metadata": {},
   "source": [
    "## Step 4: The Q learning algorithm 🧠\n",
    "- Now we implement the Q learning algorithm:"
   ]
  },
  {
   "cell_type": "code",
   "execution_count": 6,
   "metadata": {},
   "outputs": [
    {
     "name": "stdout",
     "output_type": "stream",
     "text": [
      "Score over time: 0.09156666666666667\n",
      "[[2.30457997e-02 2.30474031e-02 2.37870157e-02 3.85212747e-02]\n",
      " [2.53995134e-02 2.08504393e-02 2.72803000e-02 4.76643825e-02]\n",
      " [2.87710516e-02 2.78768264e-02 5.58087000e-02 3.82421983e-02]\n",
      " [4.30193657e-02 3.83320458e-02 4.60729537e-02 4.33167488e-02]\n",
      " [5.32662586e-02 6.43941814e-02 6.83174921e-02 5.39812484e-02]\n",
      " [6.98740410e-02 6.96420633e-02 7.64024043e-02 7.13657709e-02]\n",
      " [8.18211791e-02 8.24340486e-02 8.77131524e-02 8.21448603e-02]\n",
      " [8.49636360e-02 8.24330525e-02 9.93617614e-02 8.44711237e-02]\n",
      " [2.54221233e-02 2.57279672e-02 3.06491841e-02 2.58831011e-02]\n",
      " [2.64183911e-02 2.49135082e-02 2.57754069e-02 3.85446836e-02]\n",
      " [2.81441754e-02 1.57445793e-02 2.48471652e-02 4.58653502e-02]\n",
      " [4.51364888e-02 1.63560610e-02 6.03526066e-03 5.52129771e-02]\n",
      " [4.11596662e-02 3.29749495e-02 7.60072903e-02 4.05516724e-02]\n",
      " [6.42568426e-02 5.30380993e-02 5.99300539e-02 7.23329700e-02]\n",
      " [8.28825091e-02 8.92582610e-02 1.08593285e-01 9.18686722e-02]\n",
      " [1.00879556e-01 9.76440966e-02 1.77777816e-01 1.00465017e-01]\n",
      " [1.76355688e-02 2.30015058e-02 1.68470576e-02 2.36243956e-02]\n",
      " [1.58283365e-02 2.49652771e-02 1.57188069e-02 1.44090804e-02]\n",
      " [3.33706519e-02 6.78117143e-03 7.91914513e-03 2.18488181e-02]\n",
      " [0.00000000e+00 0.00000000e+00 0.00000000e+00 0.00000000e+00]\n",
      " [1.47082772e-02 2.71005938e-02 4.98610819e-02 2.70081821e-03]\n",
      " [9.50851956e-03 1.99445057e-02 9.08758949e-03 8.28237151e-02]\n",
      " [9.80288412e-02 7.73678436e-02 1.06797229e-01 1.01274301e-01]\n",
      " [1.08012539e-01 2.21177079e-01 1.15695434e-01 1.11799706e-01]\n",
      " [1.09683188e-02 1.25209476e-02 1.10569632e-02 1.28177104e-02]\n",
      " [1.74292806e-02 6.97375921e-03 9.52912918e-03 9.98446640e-03]\n",
      " [5.12240680e-03 5.02736712e-03 1.88749786e-02 7.06849571e-03]\n",
      " [7.51670379e-05 3.51494012e-04 6.82259448e-04 9.45055920e-03]\n",
      " [7.86309099e-02 6.11306619e-03 6.58633205e-03 9.15911157e-05]\n",
      " [0.00000000e+00 0.00000000e+00 0.00000000e+00 0.00000000e+00]\n",
      " [1.02802227e-01 7.27434077e-02 1.71605854e-01 4.20424088e-02]\n",
      " [1.46494194e-01 1.43949039e-01 1.35000699e-01 1.41779607e-01]\n",
      " [1.15369519e-02 6.19062003e-03 5.65848328e-03 1.23259981e-02]\n",
      " [3.49858167e-03 1.88376073e-03 2.95522280e-03 1.04248924e-02]\n",
      " [6.31566420e-03 8.31740273e-05 1.98324467e-06 6.63847016e-05]\n",
      " [0.00000000e+00 0.00000000e+00 0.00000000e+00 0.00000000e+00]\n",
      " [1.32455059e-02 2.74485697e-03 4.38658769e-02 1.99736378e-02]\n",
      " [2.83977019e-02 1.38721915e-01 3.08502437e-03 2.99876137e-02]\n",
      " [9.07503014e-02 3.85014692e-02 1.71228027e-01 2.52840607e-01]\n",
      " [4.19107119e-01 1.73698866e-01 2.21946008e-01 1.72722800e-01]\n",
      " [9.64981496e-03 7.93444685e-04 2.58705652e-03 2.10697768e-03]\n",
      " [0.00000000e+00 0.00000000e+00 0.00000000e+00 0.00000000e+00]\n",
      " [0.00000000e+00 0.00000000e+00 0.00000000e+00 0.00000000e+00]\n",
      " [1.46953962e-07 4.32665079e-05 3.87188962e-03 2.63479820e-10]\n",
      " [5.14776643e-03 6.35050338e-03 9.32612957e-03 6.19895182e-03]\n",
      " [4.80102133e-02 2.22314340e-02 1.67778624e-02 1.97249000e-02]\n",
      " [0.00000000e+00 0.00000000e+00 0.00000000e+00 0.00000000e+00]\n",
      " [3.35723325e-01 2.21908413e-01 5.60481509e-01 7.77354343e-02]\n",
      " [7.15885544e-03 2.63960765e-03 4.81232890e-05 7.94930001e-05]\n",
      " [0.00000000e+00 0.00000000e+00 0.00000000e+00 0.00000000e+00]\n",
      " [7.23286931e-06 3.02313951e-04 9.96541236e-05 5.53695677e-06]\n",
      " [2.66596664e-03 8.12586311e-06 1.42931466e-05 6.36713849e-06]\n",
      " [0.00000000e+00 0.00000000e+00 0.00000000e+00 0.00000000e+00]\n",
      " [1.22078059e-01 7.25462722e-06 2.62631157e-03 8.12011826e-02]\n",
      " [0.00000000e+00 0.00000000e+00 0.00000000e+00 0.00000000e+00]\n",
      " [3.30108537e-01 7.34160459e-02 5.55662643e-01 3.22540722e-03]\n",
      " [5.62447664e-03 2.03430191e-03 1.32725752e-03 5.08777209e-03]\n",
      " [3.83518004e-04 4.39894505e-03 5.11856020e-04 8.86401266e-04]\n",
      " [1.84500043e-03 3.44282772e-04 2.20422364e-04 4.23185383e-04]\n",
      " [0.00000000e+00 0.00000000e+00 0.00000000e+00 0.00000000e+00]\n",
      " [0.00000000e+00 4.69996360e-01 5.67454542e-03 4.20255933e-03]\n",
      " [1.27525654e-01 3.85943888e-01 8.27439505e-01 8.03732070e-02]\n",
      " [7.57396265e-01 9.99583877e-01 4.68987007e-01 3.18376937e-01]\n",
      " [0.00000000e+00 0.00000000e+00 0.00000000e+00 0.00000000e+00]]\n"
     ]
    }
   ],
   "source": [
    "# List of rewards\n",
    "rewards = []\n",
    "\n",
    "# 2 For life or until learning is stopped\n",
    "for episode in range(total_episodes):\n",
    "    # Reset the environment\n",
    "    state = env.reset()[0]\n",
    "    step = 0\n",
    "    done = False\n",
    "    total_rewards = 0\n",
    "    \n",
    "    for step in range(max_steps):\n",
    "        # 3. Choose an action a in the current world state (s)\n",
    "        ## First we randomize a number\n",
    "        exp_exp_tradeoff = random.uniform(0, 1)\n",
    "        \n",
    "        ## If this number > greater than epsilon --> exploitation (taking the biggest Q value for this state)\n",
    "        if exp_exp_tradeoff > epsilon:\n",
    "            action = np.argmax(qtable[state,:])\n",
    "\n",
    "        # Else doing a random choice --> exploration\n",
    "        else:\n",
    "            action = env.action_space.sample()\n",
    "\n",
    "        # Take the action (a) and observe the outcome state(s') and reward (r)\n",
    "        new_state, reward, done, truncated,info = env.step(action)\n",
    "\n",
    "        # Update Q(s,a):= Q(s,a) + lr [R(s,a) + gamma * max Q(s',a') - Q(s,a)]\n",
    "        # qtable[new_state,:] : all the actions we can take from new state\n",
    "        qtable[state, action] = qtable[state, action] + learning_rate * (reward + gamma * np.max(qtable[new_state,:]) - qtable[state, action])\n",
    "        \n",
    "        total_rewards += reward\n",
    "        \n",
    "        # Our new state is state\n",
    "        state = new_state\n",
    "        \n",
    "        # If done (if we're dead) : finish episode\n",
    "        if done == True: \n",
    "            break\n",
    "        \n",
    "    # Reduce epsilon (because we need less and less exploration)\n",
    "    epsilon = min_epsilon + (max_epsilon - min_epsilon)*np.exp(-decay_rate*episode) \n",
    "    rewards.append(total_rewards)\n",
    "\n",
    "print (\"Score over time: \" +  str(sum(rewards)/total_episodes))\n",
    "print(qtable)"
   ]
  },
  {
   "cell_type": "markdown",
   "metadata": {},
   "source": [
    "## Step 5: Use our Q-table to play FrozenLake ! 👾"
   ]
  },
  {
   "cell_type": "code",
   "execution_count": 7,
   "metadata": {},
   "outputs": [
    {
     "name": "stderr",
     "output_type": "stream",
     "text": [
      "C:\\Users\\fromm\\Anaconda3\\lib\\site-packages\\gym\\envs\\toy_text\\frozen_lake.py:271: UserWarning: \u001b[33mWARN: You are calling render method without specifying any render mode. You can specify the render_mode at initialization, e.g. gym(\"FrozenLake-v1\", render_mode=\"rgb_array\")\u001b[0m\n",
      "  logger.warn(\n"
     ]
    },
    {
     "name": "stdout",
     "output_type": "stream",
     "text": [
      "Completionrate 0.485\n"
     ]
    }
   ],
   "source": [
    "env.reset()\n",
    "\n",
    "result = 0\n",
    "for episode in range(1000):\n",
    "    state = env.reset()[0]\n",
    "    step = 0\n",
    "    done = False\n",
    "    #print(\"****************************************************\")\n",
    "    #print(\"EPISODE \", episode+1)\n",
    "\n",
    "    for step in range(max_steps):\n",
    "        \n",
    "        # Take the action (index) that have the maximum expected future reward given that state\n",
    "        action = np.argmax(qtable[state,:])\n",
    "        \n",
    "        new_state, reward, done, truncated, info = env.step(action)\n",
    "        \n",
    "        if done:\n",
    "            # Here, we decide to only print the last state (to see if our agent is on the goal or fall into an hole)\n",
    "            env.render()\n",
    "            \n",
    "            result += reward\n",
    "            # We print the number of step it took.\n",
    "            #print(\"Number of steps\", step)\n",
    "            #print(\"Reward\",reward)\n",
    "            break\n",
    "        state = new_state\n",
    "\n",
    "print(\"Completionrate\",result/1000)\n",
    "env.close()"
   ]
  },
  {
   "cell_type": "markdown",
   "metadata": {},
   "source": [
    "<h1>Run Game with rendering</h1>"
   ]
  },
  {
   "cell_type": "code",
   "execution_count": 11,
   "metadata": {},
   "outputs": [
    {
     "name": "stdout",
     "output_type": "stream",
     "text": [
      "****************************************************\n",
      "EPISODE  1\n",
      "Number of steps 101\n",
      "Reward 1.0\n",
      "****************************************************\n",
      "EPISODE  2\n",
      "Number of steps 39\n",
      "Reward 1.0\n",
      "****************************************************\n",
      "EPISODE  3\n",
      "Number of steps 53\n",
      "Reward 1.0\n",
      "****************************************************\n",
      "EPISODE  4\n",
      "Number of steps 192\n",
      "Reward 1.0\n",
      "****************************************************\n",
      "EPISODE  5\n",
      "Number of steps 91\n",
      "Reward 1.0\n",
      "Completionrate 1.0\n"
     ]
    }
   ],
   "source": [
    "env = gym.make(\"FrozenLake-v1\",render_mode=\"human\",map_name=\"8x8\")\n",
    "env.reset()\n",
    "\n",
    "result = 0\n",
    "for episode in range(5):\n",
    "    state = env.reset()[0]\n",
    "    step = 0\n",
    "    done = False\n",
    "    print(\"****************************************************\")\n",
    "    print(\"EPISODE \", episode+1)\n",
    "\n",
    "    for step in range(max_steps):\n",
    "        \n",
    "        # Take the action (index) that have the maximum expected future reward given that state\n",
    "        action = np.argmax(qtable[state,:])\n",
    "        \n",
    "        new_state, reward, done, truncated, info = env.step(action)\n",
    "        \n",
    "        if done:\n",
    "            # Here, we decide to only print the last state (to see if our agent is on the goal or fall into an hole)\n",
    "            env.render()\n",
    "            \n",
    "            result += reward\n",
    "            # We print the number of step it took.\n",
    "            print(\"Number of steps\", step)\n",
    "            print(\"Reward\",reward)\n",
    "            break\n",
    "        state = new_state\n",
    "\n",
    "print(\"Completionrate\",result/5)\n",
    "env.close()"
   ]
  }
 ],
 "metadata": {
  "kernelspec": {
   "display_name": "Python 3",
   "language": "python",
   "name": "python3"
  },
  "language_info": {
   "codemirror_mode": {
    "name": "ipython",
    "version": 3
   },
   "file_extension": ".py",
   "mimetype": "text/x-python",
   "name": "python",
   "nbconvert_exporter": "python",
   "pygments_lexer": "ipython3",
   "version": "3.8.3"
  }
 },
 "nbformat": 4,
 "nbformat_minor": 2
}
