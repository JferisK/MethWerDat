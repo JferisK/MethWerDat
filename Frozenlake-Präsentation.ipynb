{
 "cells": [
  {
   "cell_type": "markdown",
   "metadata": {},
   "source": [
    "# Q* Learning with FrozenLake 🕹️⛄\n",
    "<br> \n",
    "In this Notebook, we'll implement an agent <b>that plays FrozenLake.</b>\n",
    "\n",
    "The goal of this game is <b>to go from the starting state (S) to the goal state (G)</b> by walking only on frozen tiles (F) and avoid holes (H).However, the ice is slippery, <b>so you won't always move in the direction you intend (stochastic environment)</b>"
   ]
  },
  {
   "cell_type": "markdown",
   "metadata": {},
   "source": [
    "## Step 0: Import the dependencies 📚\n",
    "We use 3 libraries:\n",
    "- `Numpy` for our Qtable\n",
    "- `OpenAI Gym` for our FrozenLake Environment\n",
    "- `Random` to generate random numbers"
   ]
  },
  {
   "cell_type": "code",
   "execution_count": 1,
   "metadata": {},
   "outputs": [],
   "source": [
    "import numpy as np\n",
    "import gym\n",
    "import random"
   ]
  },
  {
   "cell_type": "markdown",
   "metadata": {},
   "source": [
    "## Step 1: Create the environment 🎮\n",
    "- Here we'll create the FrozenLake environment. \n",
    "- OpenAI Gym is a library <b> composed of many environments that we can use to train our agents.</b>\n",
    "- In our case we choose to use Frozen Lake."
   ]
  },
  {
   "cell_type": "code",
   "execution_count": 2,
   "metadata": {},
   "outputs": [],
   "source": [
    "env = gym.make(\"FrozenLake-v1\",map_name=\"8x8\")"
   ]
  },
  {
   "cell_type": "markdown",
   "metadata": {},
   "source": [
    "## Step 2: Create the Q-table and initialize it 🗄️\n",
    "- Now, we'll create our Q-table, to know how much rows (states) and columns (actions) we need, we need to calculate the action_size and the state_size\n",
    "- OpenAI Gym provides us a way to do that: `env.action_space.n` and `env.observation_space.n`"
   ]
  },
  {
   "cell_type": "code",
   "execution_count": 3,
   "metadata": {},
   "outputs": [
    {
     "name": "stdout",
     "output_type": "stream",
     "text": [
      "4\n",
      "64\n"
     ]
    }
   ],
   "source": [
    "action_size = env.action_space.n\n",
    "state_size = env.observation_space.n\n",
    "print(action_size)\n",
    "print(state_size)"
   ]
  },
  {
   "cell_type": "code",
   "execution_count": 4,
   "metadata": {
    "scrolled": true
   },
   "outputs": [
    {
     "name": "stdout",
     "output_type": "stream",
     "text": [
      "[[0. 0. 0. 0.]\n",
      " [0. 0. 0. 0.]\n",
      " [0. 0. 0. 0.]\n",
      " [0. 0. 0. 0.]\n",
      " [0. 0. 0. 0.]\n",
      " [0. 0. 0. 0.]\n",
      " [0. 0. 0. 0.]\n",
      " [0. 0. 0. 0.]\n",
      " [0. 0. 0. 0.]\n",
      " [0. 0. 0. 0.]\n",
      " [0. 0. 0. 0.]\n",
      " [0. 0. 0. 0.]\n",
      " [0. 0. 0. 0.]\n",
      " [0. 0. 0. 0.]\n",
      " [0. 0. 0. 0.]\n",
      " [0. 0. 0. 0.]\n",
      " [0. 0. 0. 0.]\n",
      " [0. 0. 0. 0.]\n",
      " [0. 0. 0. 0.]\n",
      " [0. 0. 0. 0.]\n",
      " [0. 0. 0. 0.]\n",
      " [0. 0. 0. 0.]\n",
      " [0. 0. 0. 0.]\n",
      " [0. 0. 0. 0.]\n",
      " [0. 0. 0. 0.]\n",
      " [0. 0. 0. 0.]\n",
      " [0. 0. 0. 0.]\n",
      " [0. 0. 0. 0.]\n",
      " [0. 0. 0. 0.]\n",
      " [0. 0. 0. 0.]\n",
      " [0. 0. 0. 0.]\n",
      " [0. 0. 0. 0.]\n",
      " [0. 0. 0. 0.]\n",
      " [0. 0. 0. 0.]\n",
      " [0. 0. 0. 0.]\n",
      " [0. 0. 0. 0.]\n",
      " [0. 0. 0. 0.]\n",
      " [0. 0. 0. 0.]\n",
      " [0. 0. 0. 0.]\n",
      " [0. 0. 0. 0.]\n",
      " [0. 0. 0. 0.]\n",
      " [0. 0. 0. 0.]\n",
      " [0. 0. 0. 0.]\n",
      " [0. 0. 0. 0.]\n",
      " [0. 0. 0. 0.]\n",
      " [0. 0. 0. 0.]\n",
      " [0. 0. 0. 0.]\n",
      " [0. 0. 0. 0.]\n",
      " [0. 0. 0. 0.]\n",
      " [0. 0. 0. 0.]\n",
      " [0. 0. 0. 0.]\n",
      " [0. 0. 0. 0.]\n",
      " [0. 0. 0. 0.]\n",
      " [0. 0. 0. 0.]\n",
      " [0. 0. 0. 0.]\n",
      " [0. 0. 0. 0.]\n",
      " [0. 0. 0. 0.]\n",
      " [0. 0. 0. 0.]\n",
      " [0. 0. 0. 0.]\n",
      " [0. 0. 0. 0.]\n",
      " [0. 0. 0. 0.]\n",
      " [0. 0. 0. 0.]\n",
      " [0. 0. 0. 0.]\n",
      " [0. 0. 0. 0.]]\n"
     ]
    }
   ],
   "source": [
    "qtable = np.zeros((state_size, action_size))\n",
    "print(qtable)"
   ]
  },
  {
   "cell_type": "markdown",
   "metadata": {},
   "source": [
    "## Step 3: Create the hyperparameters ⚙️\n",
    "- Here, we'll specify the hyperparameters"
   ]
  },
  {
   "cell_type": "code",
   "execution_count": 5,
   "metadata": {},
   "outputs": [],
   "source": [
    "total_episodes = 30000        # Total episodes\n",
    "learning_rate = 0.1           # Learning rate\n",
    "max_steps = 300                # Max steps per episode\n",
    "gamma = 0.95                  # Discounting rate\n",
    "\n",
    "# Exploration parameters\n",
    "epsilon = 1.0                 # Exploration rate\n",
    "max_epsilon = 1.0             # Exploration probability at start\n",
    "min_epsilon = 0.01            # Minimum exploration probability \n",
    "decay_rate = 0.0001             # Exponential decay rate for exploration prob"
   ]
  },
  {
   "cell_type": "markdown",
   "metadata": {},
   "source": [
    "## Step 4: The Q learning algorithm 🧠\n",
    "- Now we implement the Q learning algorithm:"
   ]
  },
  {
   "cell_type": "code",
   "execution_count": 6,
   "metadata": {},
   "outputs": [
    {
     "name": "stdout",
     "output_type": "stream",
     "text": [
      "Score over time: 0.20966666666666667\n",
      "[[4.39800822e-02 4.40579537e-02 4.49290822e-02 4.41871393e-02]\n",
      " [4.91338305e-02 4.84462610e-02 5.42690811e-02 4.90907623e-02]\n",
      " [5.74091789e-02 5.60049044e-02 6.41377231e-02 5.97059028e-02]\n",
      " [7.65018922e-02 7.38113338e-02 8.26615142e-02 7.76161687e-02]\n",
      " [8.77434700e-02 9.12792518e-02 1.09622155e-01 9.12222310e-02]\n",
      " [1.05620325e-01 1.13018973e-01 1.34197530e-01 1.09297615e-01]\n",
      " [1.25850261e-01 1.28474349e-01 1.42174467e-01 1.26304145e-01]\n",
      " [1.44155858e-01 1.31470137e-01 1.38432699e-01 1.31018474e-01]\n",
      " [4.05684442e-02 3.96327401e-02 4.13746839e-02 4.39544031e-02]\n",
      " [4.56763886e-02 4.63579608e-02 5.18081722e-02 4.65164137e-02]\n",
      " [4.98506226e-02 5.22753229e-02 5.89148218e-02 6.22922882e-02]\n",
      " [4.41328467e-02 4.65925413e-02 4.71730799e-02 8.07509325e-02]\n",
      " [8.16583759e-02 8.34152619e-02 1.13853926e-01 9.04199376e-02]\n",
      " [1.05948537e-01 1.06610103e-01 1.37263238e-01 1.06211994e-01]\n",
      " [1.40712806e-01 1.45126595e-01 1.53117279e-01 1.36214370e-01]\n",
      " [1.48073205e-01 1.54092822e-01 1.54780239e-01 1.51160815e-01]\n",
      " [3.45921306e-02 3.33416802e-02 3.27556785e-02 4.08685572e-02]\n",
      " [3.59560832e-02 3.43651048e-02 3.42381460e-02 4.33163329e-02]\n",
      " [4.38564346e-02 2.23708104e-02 2.90247382e-02 2.01904267e-02]\n",
      " [0.00000000e+00 0.00000000e+00 0.00000000e+00 0.00000000e+00]\n",
      " [5.67985250e-02 5.27895891e-02 9.97159892e-02 5.94306903e-02]\n",
      " [6.21965595e-02 9.22237478e-02 8.94317191e-02 1.31677749e-01]\n",
      " [1.54835107e-01 1.63647779e-01 1.70174841e-01 1.63138356e-01]\n",
      " [1.81372488e-01 1.86474388e-01 1.86632704e-01 1.77422020e-01]\n",
      " [2.77947479e-02 2.57983474e-02 2.84698099e-02 3.16391955e-02]\n",
      " [2.64807226e-02 2.74659100e-02 2.84981603e-02 3.44432249e-02]\n",
      " [2.68783947e-02 2.60069347e-02 2.30464901e-02 3.01309121e-02]\n",
      " [3.63181161e-03 2.73727669e-02 1.86070723e-02 2.07387961e-02]\n",
      " [6.38651684e-02 3.12480577e-02 3.36124531e-02 3.45369879e-02]\n",
      " [0.00000000e+00 0.00000000e+00 0.00000000e+00 0.00000000e+00]\n",
      " [1.38204691e-01 1.56430048e-01 1.93222780e-01 1.47243285e-01]\n",
      " [2.19568062e-01 2.19755679e-01 2.30112911e-01 2.17324471e-01]\n",
      " [1.95203564e-02 1.95902443e-02 1.95616235e-02 2.35438981e-02]\n",
      " [1.95053323e-02 9.20570370e-03 1.55432468e-02 2.54147964e-02]\n",
      " [1.34040899e-02 8.58978895e-03 1.21545712e-02 2.00350365e-02]\n",
      " [0.00000000e+00 0.00000000e+00 0.00000000e+00 0.00000000e+00]\n",
      " [3.17930433e-02 4.12131799e-02 7.31264818e-02 6.44989347e-02]\n",
      " [5.67531005e-02 1.12096940e-01 8.47336009e-02 6.93579965e-02]\n",
      " [9.87626378e-02 1.50554893e-01 1.58785177e-01 1.95399430e-01]\n",
      " [2.92924402e-01 3.55228570e-01 3.27331674e-01 2.73374783e-01]\n",
      " [1.36857909e-02 5.44803307e-03 8.87417707e-03 1.17858604e-02]\n",
      " [0.00000000e+00 0.00000000e+00 0.00000000e+00 0.00000000e+00]\n",
      " [0.00000000e+00 0.00000000e+00 0.00000000e+00 0.00000000e+00]\n",
      " [3.90705395e-03 1.51299038e-02 1.33198086e-02 1.08599384e-02]\n",
      " [2.41526126e-02 2.78898392e-02 4.08629722e-02 5.27233396e-02]\n",
      " [8.95194000e-02 6.90074679e-02 7.40183769e-02 5.66551256e-02]\n",
      " [0.00000000e+00 0.00000000e+00 0.00000000e+00 0.00000000e+00]\n",
      " [3.00108071e-01 2.73766678e-01 4.76355941e-01 2.14972076e-01]\n",
      " [2.28145999e-03 4.02269444e-04 7.42237067e-04 6.08491695e-03]\n",
      " [0.00000000e+00 0.00000000e+00 0.00000000e+00 0.00000000e+00]\n",
      " [3.84680388e-05 1.24175763e-03 7.05748332e-04 2.92386049e-04]\n",
      " [3.08918963e-03 3.91993353e-04 3.14534513e-03 3.46329544e-03]\n",
      " [0.00000000e+00 0.00000000e+00 0.00000000e+00 0.00000000e+00]\n",
      " [7.81315555e-02 7.90809211e-02 7.66328363e-02 3.87939312e-02]\n",
      " [0.00000000e+00 0.00000000e+00 0.00000000e+00 0.00000000e+00]\n",
      " [5.24279539e-01 4.05341341e-01 7.44633984e-01 3.02332718e-01]\n",
      " [2.81679912e-04 2.04592688e-07 6.08432404e-05 1.84624052e-03]\n",
      " [3.38816456e-05 4.04878865e-08 4.98409135e-09 1.70618491e-04]\n",
      " [1.78979739e-04 0.00000000e+00 3.63233717e-05 4.49417625e-04]\n",
      " [0.00000000e+00 0.00000000e+00 0.00000000e+00 0.00000000e+00]\n",
      " [1.65030912e-02 1.15484721e-01 2.28323611e-01 7.35822615e-02]\n",
      " [2.11117388e-01 3.05913845e-01 2.96421832e-01 2.80207002e-01]\n",
      " [2.16069890e-01 7.11780908e-01 3.84964349e-01 4.54023938e-01]\n",
      " [0.00000000e+00 0.00000000e+00 0.00000000e+00 0.00000000e+00]]\n"
     ]
    }
   ],
   "source": [
    "# List of rewards\n",
    "rewards = []\n",
    "\n",
    "# 2 For life or until learning is stopped\n",
    "for episode in range(total_episodes):\n",
    "    # Reset the environment\n",
    "    state = env.reset()[0]\n",
    "    step = 0\n",
    "    done = False\n",
    "    total_rewards = 0\n",
    "    \n",
    "    for step in range(max_steps):\n",
    "        # 3. Choose an action a in the current world state (s)\n",
    "        ## First we randomize a number\n",
    "        exp_exp_tradeoff = random.uniform(0, 1)\n",
    "        \n",
    "        ## If this number > greater than epsilon --> exploitation (taking the biggest Q value for this state)\n",
    "        if exp_exp_tradeoff > epsilon:\n",
    "            action = np.argmax(qtable[state,:])\n",
    "\n",
    "        # Else doing a random choice --> exploration\n",
    "        else:\n",
    "            action = env.action_space.sample()\n",
    "\n",
    "        # Take the action (a) and observe the outcome state(s') and reward (r)\n",
    "        new_state, reward, done, truncated,info = env.step(action)\n",
    "\n",
    "        # Update Q(s,a):= Q(s,a) + lr [R(s,a) + gamma * max Q(s',a') - Q(s,a)]\n",
    "        # qtable[new_state,:] : all the actions we can take from new state\n",
    "        qtable[state, action] = qtable[state, action] + learning_rate * (reward + gamma * np.max(qtable[new_state,:]) - qtable[state, action])\n",
    "        \n",
    "        total_rewards += reward\n",
    "        \n",
    "        # Our new state is state\n",
    "        state = new_state\n",
    "        \n",
    "        # If done (if we're dead) : finish episode\n",
    "        if done == True: \n",
    "            break\n",
    "        \n",
    "    # Reduce epsilon (because we need less and less exploration)\n",
    "    epsilon = min_epsilon + (max_epsilon - min_epsilon)*np.exp(-decay_rate*episode) \n",
    "    rewards.append(total_rewards)\n",
    "\n",
    "print (\"Score over time: \" +  str(sum(rewards)/total_episodes))\n",
    "print(qtable)"
   ]
  },
  {
   "cell_type": "markdown",
   "metadata": {},
   "source": [
    "## Step 5: Use our Q-table to play FrozenLake ! 👾"
   ]
  },
  {
   "cell_type": "code",
   "execution_count": 7,
   "metadata": {},
   "outputs": [
    {
     "name": "stdout",
     "output_type": "stream",
     "text": [
      "Completionrate 0.574\n"
     ]
    }
   ],
   "source": [
    "env.reset()\n",
    "\n",
    "result = 0\n",
    "for episode in range(1000):\n",
    "    state = env.reset()[0]\n",
    "    step = 0\n",
    "    done = False\n",
    "\n",
    "    for step in range(max_steps):\n",
    "        \n",
    "        # Take the action (index) that have the maximum expected future reward given that state\n",
    "        action = np.argmax(qtable[state,:])\n",
    "        \n",
    "        new_state, reward, done, truncated, info = env.step(action)\n",
    "        \n",
    "        if done:\n",
    "            result += reward\n",
    "            break\n",
    "        state = new_state\n",
    "\n",
    "print(\"Completionrate\",result/1000)\n",
    "env.close()"
   ]
  },
  {
   "cell_type": "markdown",
   "metadata": {},
   "source": [
    "<h1>Run Game with rendering</h1>"
   ]
  },
  {
   "cell_type": "code",
   "execution_count": null,
   "metadata": {},
   "outputs": [
    {
     "name": "stdout",
     "output_type": "stream",
     "text": [
      "****************************************************\n",
      "EPISODE  1\n"
     ]
    }
   ],
   "source": [
    "env = gym.make(\"FrozenLake-v1\",render_mode=\"human\",map_name=\"8x8\")\n",
    "env.reset()\n",
    "\n",
    "result = 0\n",
    "for episode in range(5):\n",
    "    state = env.reset()[0]\n",
    "    step = 0\n",
    "    done = False\n",
    "    print(\"****************************************************\")\n",
    "    print(\"EPISODE \", episode+1)\n",
    "\n",
    "    for step in range(max_steps):\n",
    "        \n",
    "        # Take the action (index) that have the maximum expected future reward given that state\n",
    "        action = np.argmax(qtable[state,:])\n",
    "        \n",
    "        new_state, reward, done, truncated, info = env.step(action)\n",
    "        \n",
    "        if done:\n",
    "            # Here, we decide to only print the last state (to see if our agent is on the goal or fall into an hole)\n",
    "            env.render()\n",
    "            \n",
    "            result += reward\n",
    "            # We print the number of step it took.\n",
    "            print(\"Number of steps\", step)\n",
    "            print(\"Reward\",reward)\n",
    "            break\n",
    "        state = new_state\n",
    "\n",
    "print(\"Completionrate\",result/5)\n",
    "env.close()"
   ]
  }
 ],
 "metadata": {
  "kernelspec": {
   "display_name": "Python 3",
   "language": "python",
   "name": "python3"
  },
  "language_info": {
   "codemirror_mode": {
    "name": "ipython",
    "version": 3
   },
   "file_extension": ".py",
   "mimetype": "text/x-python",
   "name": "python",
   "nbconvert_exporter": "python",
   "pygments_lexer": "ipython3",
   "version": "3.8.3"
  }
 },
 "nbformat": 4,
 "nbformat_minor": 2
}
