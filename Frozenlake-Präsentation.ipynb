{
 "cells": [
  {
   "cell_type": "markdown",
   "metadata": {},
   "source": [
    "# Q* Learning with FrozenLake 🕹️⛄\n",
    "<br> \n",
    "In this Notebook, we'll implement an agent <b>that plays FrozenLake.</b>\n",
    "\n",
    "The goal of this game is <b>to go from the starting state (S) to the goal state (G)</b> by walking only on frozen tiles (F) and avoid holes (H).However, the ice is slippery, <b>so you won't always move in the direction you intend (stochastic environment)</b>"
   ]
  },
  {
   "cell_type": "markdown",
   "metadata": {},
   "source": [
    "## Step 0: Import the dependencies 📚\n",
    "We use 3 libraries:\n",
    "- `Numpy` for our Qtable\n",
    "- `OpenAI Gym` for our FrozenLake Environment\n",
    "- `Random` to generate random numbers"
   ]
  },
  {
   "cell_type": "code",
   "execution_count": 1,
   "metadata": {},
   "outputs": [],
   "source": [
    "import numpy as np\n",
    "import gym\n",
    "import random"
   ]
  },
  {
   "cell_type": "markdown",
   "metadata": {},
   "source": [
    "## Step 1: Create the environment 🎮\n",
    "- Here we'll create the FrozenLake environment. \n",
    "- OpenAI Gym is a library <b> composed of many environments that we can use to train our agents.</b>\n",
    "- In our case we choose to use Frozen Lake."
   ]
  },
  {
   "cell_type": "code",
   "execution_count": 2,
   "metadata": {},
   "outputs": [],
   "source": [
    "env = gym.make(\"FrozenLake-v1\",map_name=\"8x8\")"
   ]
  },
  {
   "cell_type": "markdown",
   "metadata": {},
   "source": [
    "## Step 2: Create the Q-table and initialize it 🗄️\n",
    "- Now, we'll create our Q-table, to know how much rows (states) and columns (actions) we need, we need to calculate the action_size and the state_size\n",
    "- OpenAI Gym provides us a way to do that: `env.action_space.n` and `env.observation_space.n`"
   ]
  },
  {
   "cell_type": "code",
   "execution_count": 11,
   "metadata": {},
   "outputs": [
    {
     "name": "stdout",
     "output_type": "stream",
     "text": [
      "4\n",
      "64\n"
     ]
    }
   ],
   "source": [
    "action_size = env.action_space.n\n",
    "state_size = env.observation_space.n\n",
    "print(action_size)\n",
    "print(state_size)"
   ]
  },
  {
   "cell_type": "code",
   "execution_count": 4,
   "metadata": {
    "scrolled": true
   },
   "outputs": [
    {
     "name": "stdout",
     "output_type": "stream",
     "text": [
      "[[0. 0. 0. 0.]\n",
      " [0. 0. 0. 0.]\n",
      " [0. 0. 0. 0.]\n",
      " [0. 0. 0. 0.]\n",
      " [0. 0. 0. 0.]\n",
      " [0. 0. 0. 0.]\n",
      " [0. 0. 0. 0.]\n",
      " [0. 0. 0. 0.]\n",
      " [0. 0. 0. 0.]\n",
      " [0. 0. 0. 0.]\n",
      " [0. 0. 0. 0.]\n",
      " [0. 0. 0. 0.]\n",
      " [0. 0. 0. 0.]\n",
      " [0. 0. 0. 0.]\n",
      " [0. 0. 0. 0.]\n",
      " [0. 0. 0. 0.]\n",
      " [0. 0. 0. 0.]\n",
      " [0. 0. 0. 0.]\n",
      " [0. 0. 0. 0.]\n",
      " [0. 0. 0. 0.]\n",
      " [0. 0. 0. 0.]\n",
      " [0. 0. 0. 0.]\n",
      " [0. 0. 0. 0.]\n",
      " [0. 0. 0. 0.]\n",
      " [0. 0. 0. 0.]\n",
      " [0. 0. 0. 0.]\n",
      " [0. 0. 0. 0.]\n",
      " [0. 0. 0. 0.]\n",
      " [0. 0. 0. 0.]\n",
      " [0. 0. 0. 0.]\n",
      " [0. 0. 0. 0.]\n",
      " [0. 0. 0. 0.]\n",
      " [0. 0. 0. 0.]\n",
      " [0. 0. 0. 0.]\n",
      " [0. 0. 0. 0.]\n",
      " [0. 0. 0. 0.]\n",
      " [0. 0. 0. 0.]\n",
      " [0. 0. 0. 0.]\n",
      " [0. 0. 0. 0.]\n",
      " [0. 0. 0. 0.]\n",
      " [0. 0. 0. 0.]\n",
      " [0. 0. 0. 0.]\n",
      " [0. 0. 0. 0.]\n",
      " [0. 0. 0. 0.]\n",
      " [0. 0. 0. 0.]\n",
      " [0. 0. 0. 0.]\n",
      " [0. 0. 0. 0.]\n",
      " [0. 0. 0. 0.]\n",
      " [0. 0. 0. 0.]\n",
      " [0. 0. 0. 0.]\n",
      " [0. 0. 0. 0.]\n",
      " [0. 0. 0. 0.]\n",
      " [0. 0. 0. 0.]\n",
      " [0. 0. 0. 0.]\n",
      " [0. 0. 0. 0.]\n",
      " [0. 0. 0. 0.]\n",
      " [0. 0. 0. 0.]\n",
      " [0. 0. 0. 0.]\n",
      " [0. 0. 0. 0.]\n",
      " [0. 0. 0. 0.]\n",
      " [0. 0. 0. 0.]\n",
      " [0. 0. 0. 0.]\n",
      " [0. 0. 0. 0.]\n",
      " [0. 0. 0. 0.]]\n"
     ]
    }
   ],
   "source": [
    "qtable = np.zeros((state_size, action_size))\n",
    "print(qtable)"
   ]
  },
  {
   "cell_type": "markdown",
   "metadata": {},
   "source": [
    "## Step 3: Create the hyperparameters ⚙️\n",
    "- Here, we'll specify the hyperparameters"
   ]
  },
  {
   "cell_type": "code",
   "execution_count": 5,
   "metadata": {},
   "outputs": [],
   "source": [
    "total_episodes = 30000        # Total episodes\n",
    "learning_rate = 0.65           # Learning rate\n",
    "max_steps = 500                # Max steps per episode\n",
    "gamma = 0.95                  # Discounting rate\n",
    "\n",
    "# Exploration parameters\n",
    "epsilon = 1.0                 # Exploration rate\n",
    "max_epsilon = 1.0             # Exploration probability at start\n",
    "min_epsilon = 0.01            # Minimum exploration probability \n",
    "decay_rate = 0.0001             # Exponential decay rate for exploration prob"
   ]
  },
  {
   "cell_type": "markdown",
   "metadata": {},
   "source": [
    "## Step 4: The Q learning algorithm 🧠\n",
    "- Now we implement the Q learning algorithm:"
   ]
  },
  {
   "cell_type": "code",
   "execution_count": 6,
   "metadata": {},
   "outputs": [
    {
     "name": "stdout",
     "output_type": "stream",
     "text": [
      "Score over time: 0.09296666666666667\n",
      "[[2.40007266e-02 2.45566769e-02 2.70421162e-02 2.43356508e-02]\n",
      " [2.67993538e-02 2.57520620e-02 3.78499254e-02 2.39843764e-02]\n",
      " [3.77013875e-02 4.50211968e-02 3.03247866e-02 3.26324545e-02]\n",
      " [4.56456736e-02 5.61240465e-02 7.20767484e-02 7.53861256e-02]\n",
      " [6.17735774e-02 8.26676656e-02 9.01708129e-02 6.27107144e-02]\n",
      " [6.73966901e-02 6.88013370e-02 8.78291386e-02 6.84243765e-02]\n",
      " [8.88374885e-02 7.65150403e-02 9.35738770e-02 8.41434158e-02]\n",
      " [9.23461974e-02 8.77996792e-02 9.24829509e-02 9.19456679e-02]\n",
      " [2.36441274e-02 2.38664467e-02 2.45226533e-02 2.36904531e-02]\n",
      " [2.40823470e-02 2.50907718e-02 2.94612729e-02 2.49435839e-02]\n",
      " [2.62139600e-02 2.31437183e-02 6.17614408e-02 3.94759047e-02]\n",
      " [1.96075469e-03 3.62459419e-03 2.23706305e-03 9.32086042e-02]\n",
      " [3.94891102e-02 6.68040305e-02 5.56376801e-02 1.02064681e-01]\n",
      " [5.37298286e-02 7.63140647e-02 9.16369083e-02 7.53450283e-02]\n",
      " [9.80846796e-02 9.40749993e-02 1.20574144e-01 9.55179014e-02]\n",
      " [9.15402614e-02 9.43930349e-02 1.51322544e-01 9.62782650e-02]\n",
      " [1.71786743e-02 2.16268800e-02 1.47428998e-02 2.69173985e-02]\n",
      " [2.37757057e-02 1.58698266e-02 1.70307763e-02 2.13240119e-02]\n",
      " [1.91903563e-02 4.50750914e-03 5.83346330e-03 1.40055176e-02]\n",
      " [0.00000000e+00 0.00000000e+00 0.00000000e+00 0.00000000e+00]\n",
      " [6.53528615e-03 1.27573061e-02 6.88894188e-02 7.30033520e-03]\n",
      " [1.58367284e-02 5.07768611e-02 1.44821400e-02 8.71907165e-02]\n",
      " [1.00744377e-01 5.58178899e-02 1.72010278e-01 8.67299742e-02]\n",
      " [1.09729562e-01 2.11898219e-01 1.28104523e-01 1.23938897e-01]\n",
      " [1.11951503e-02 1.19276317e-02 1.34506433e-02 1.94558698e-02]\n",
      " [7.61087064e-03 8.27348417e-03 1.09663518e-02 1.76680237e-02]\n",
      " [5.33403364e-03 5.70415555e-03 5.50980708e-03 7.64861791e-03]\n",
      " [2.11077395e-04 1.93088919e-03 2.16819215e-03 2.45019895e-03]\n",
      " [1.97587387e-02 5.28788031e-03 6.11844150e-04 4.50471223e-04]\n",
      " [0.00000000e+00 0.00000000e+00 0.00000000e+00 0.00000000e+00]\n",
      " [8.36551078e-02 5.56777964e-02 1.97403467e-01 1.22068918e-01]\n",
      " [2.32156570e-01 3.49337764e-01 1.73798565e-01 1.48610016e-01]\n",
      " [1.04300287e-02 6.42849063e-03 1.16306131e-02 6.80464056e-03]\n",
      " [9.59473585e-04 3.15918270e-03 9.58504321e-03 1.70369416e-03]\n",
      " [9.46551589e-03 1.50867271e-06 1.10087636e-04 4.75416324e-05]\n",
      " [0.00000000e+00 0.00000000e+00 0.00000000e+00 0.00000000e+00]\n",
      " [2.34635848e-02 3.30553937e-02 5.14463549e-02 2.75838548e-03]\n",
      " [4.55175729e-02 1.13181426e-01 1.76157494e-02 6.61685446e-02]\n",
      " [1.94093723e-02 1.14798790e-02 3.71325019e-04 3.45808893e-01]\n",
      " [2.96015428e-01 3.11698630e-01 5.30939006e-01 2.83043338e-01]\n",
      " [9.96555261e-03 2.95815643e-03 8.10464747e-04 8.21060602e-04]\n",
      " [0.00000000e+00 0.00000000e+00 0.00000000e+00 0.00000000e+00]\n",
      " [0.00000000e+00 0.00000000e+00 0.00000000e+00 0.00000000e+00]\n",
      " [1.00129542e-04 2.00487494e-05 5.41796577e-02 5.71876361e-08]\n",
      " [4.00276281e-04 2.31165986e-03 1.90661703e-04 6.89176509e-02]\n",
      " [9.77618652e-02 3.18024940e-04 5.46675360e-02 2.34358385e-03]\n",
      " [0.00000000e+00 0.00000000e+00 0.00000000e+00 0.00000000e+00]\n",
      " [1.90684440e-01 1.55401343e-01 6.18800782e-01 3.21948154e-01]\n",
      " [7.22650869e-03 7.16575946e-04 1.46731472e-03 8.42284720e-04]\n",
      " [0.00000000e+00 0.00000000e+00 0.00000000e+00 0.00000000e+00]\n",
      " [1.06848502e-05 5.91940465e-05 1.19279537e-04 3.33767130e-05]\n",
      " [1.82909411e-05 1.56184814e-05 1.57236593e-05 5.99964765e-03]\n",
      " [0.00000000e+00 0.00000000e+00 0.00000000e+00 0.00000000e+00]\n",
      " [2.52140171e-01 1.50563121e-03 1.30649430e-02 9.99087418e-03]\n",
      " [0.00000000e+00 0.00000000e+00 0.00000000e+00 0.00000000e+00]\n",
      " [5.95042864e-01 4.25116916e-02 9.41264416e-01 5.41251696e-01]\n",
      " [3.97287764e-03 1.06114042e-03 8.78887717e-04 2.88526550e-03]\n",
      " [4.05963429e-04 1.72268346e-03 1.21156837e-04 2.80595523e-04]\n",
      " [5.09663141e-04 6.79566475e-05 1.17783911e-04 7.81961817e-04]\n",
      " [0.00000000e+00 0.00000000e+00 0.00000000e+00 0.00000000e+00]\n",
      " [0.00000000e+00 2.28544854e-02 2.09286386e-01 1.69910037e-02]\n",
      " [1.97171315e-01 1.44657203e-01 5.70247633e-01 2.30517147e-01]\n",
      " [1.95981122e-01 9.01553918e-01 1.78034487e-01 2.34191430e-01]\n",
      " [0.00000000e+00 0.00000000e+00 0.00000000e+00 0.00000000e+00]]\n"
     ]
    }
   ],
   "source": [
    "# List of rewards\n",
    "rewards = []\n",
    "\n",
    "# 2 For life or until learning is stopped\n",
    "for episode in range(total_episodes):\n",
    "    # Reset the environment\n",
    "    state = env.reset()[0]\n",
    "    step = 0\n",
    "    done = False\n",
    "    total_rewards = 0\n",
    "    \n",
    "    for step in range(max_steps):\n",
    "        # 3. Choose an action a in the current world state (s)\n",
    "        ## First we randomize a number\n",
    "        exp_exp_tradeoff = random.uniform(0, 1)\n",
    "        \n",
    "        ## If this number > greater than epsilon --> exploitation (taking the biggest Q value for this state)\n",
    "        if exp_exp_tradeoff > epsilon:\n",
    "            action = np.argmax(qtable[state,:])\n",
    "\n",
    "        # Else doing a random choice --> exploration\n",
    "        else:\n",
    "            action = env.action_space.sample()\n",
    "\n",
    "        # Take the action (a) and observe the outcome state(s') and reward (r)\n",
    "        new_state, reward, done, truncated,info = env.step(action)\n",
    "\n",
    "        # Update Q(s,a):= Q(s,a) + lr [R(s,a) + gamma * max Q(s',a') - Q(s,a)]\n",
    "        # qtable[new_state,:] : all the actions we can take from new state\n",
    "        qtable[state, action] = qtable[state, action] + learning_rate * (reward + gamma * np.max(qtable[new_state,:]) - qtable[state, action])\n",
    "        \n",
    "        total_rewards += reward\n",
    "        \n",
    "        # Our new state is state\n",
    "        state = new_state\n",
    "        \n",
    "        # If done (if we're dead) : finish episode\n",
    "        if done == True: \n",
    "            break\n",
    "        \n",
    "    # Reduce epsilon (because we need less and less exploration)\n",
    "    epsilon = min_epsilon + (max_epsilon - min_epsilon)*np.exp(-decay_rate*episode) \n",
    "    rewards.append(total_rewards)\n",
    "\n",
    "print (\"Score over time: \" +  str(sum(rewards)/total_episodes))\n",
    "print(qtable)"
   ]
  },
  {
   "cell_type": "markdown",
   "metadata": {},
   "source": [
    "## Step 5: Use our Q-table to play FrozenLake ! 👾"
   ]
  },
  {
   "cell_type": "code",
   "execution_count": 7,
   "metadata": {},
   "outputs": [
    {
     "name": "stderr",
     "output_type": "stream",
     "text": [
      "C:\\Users\\fromm\\Anaconda3\\lib\\site-packages\\gym\\envs\\toy_text\\frozen_lake.py:271: UserWarning: \u001b[33mWARN: You are calling render method without specifying any render mode. You can specify the render_mode at initialization, e.g. gym(\"FrozenLake-v1\", render_mode=\"rgb_array\")\u001b[0m\n",
      "  logger.warn(\n"
     ]
    },
    {
     "name": "stdout",
     "output_type": "stream",
     "text": [
      "Completionrate 0.669\n"
     ]
    }
   ],
   "source": [
    "env.reset()\n",
    "\n",
    "result = 0\n",
    "for episode in range(1000):\n",
    "    state = env.reset()[0]\n",
    "    step = 0\n",
    "    done = False\n",
    "    #print(\"****************************************************\")\n",
    "    #print(\"EPISODE \", episode+1)\n",
    "\n",
    "    for step in range(max_steps):\n",
    "        \n",
    "        # Take the action (index) that have the maximum expected future reward given that state\n",
    "        action = np.argmax(qtable[state,:])\n",
    "        \n",
    "        new_state, reward, done, truncated, info = env.step(action)\n",
    "        \n",
    "        if done:\n",
    "            # Here, we decide to only print the last state (to see if our agent is on the goal or fall into an hole)\n",
    "            env.render()\n",
    "            \n",
    "            result += reward\n",
    "            # We print the number of step it took.\n",
    "            #print(\"Number of steps\", step)\n",
    "            #print(\"Reward\",reward)\n",
    "            break\n",
    "        state = new_state\n",
    "\n",
    "print(\"Completionrate\",result/1000)\n",
    "env.close()"
   ]
  },
  {
   "cell_type": "markdown",
   "metadata": {},
   "source": [
    "<h1>Run Game with rendering</h1>"
   ]
  },
  {
   "cell_type": "code",
   "execution_count": 10,
   "metadata": {},
   "outputs": [
    {
     "name": "stdout",
     "output_type": "stream",
     "text": [
      "****************************************************\n",
      "EPISODE  1\n",
      "Number of steps 57\n",
      "Reward 1.0\n",
      "****************************************************\n",
      "EPISODE  2\n",
      "Number of steps 54\n",
      "Reward 0.0\n",
      "****************************************************\n",
      "EPISODE  3\n",
      "Number of steps 20\n",
      "Reward 0.0\n",
      "****************************************************\n",
      "EPISODE  4\n",
      "Number of steps 127\n",
      "Reward 0.0\n",
      "****************************************************\n",
      "EPISODE  5\n",
      "Number of steps 169\n",
      "Reward 1.0\n",
      "Completionrate 0.4\n"
     ]
    }
   ],
   "source": [
    "env = gym.make(\"FrozenLake-v1\",render_mode=\"human\",map_name=\"8x8\")\n",
    "env.reset()\n",
    "\n",
    "result = 0\n",
    "for episode in range(5):\n",
    "    state = env.reset()[0]\n",
    "    step = 0\n",
    "    done = False\n",
    "    print(\"****************************************************\")\n",
    "    print(\"EPISODE \", episode+1)\n",
    "\n",
    "    for step in range(max_steps):\n",
    "        \n",
    "        # Take the action (index) that have the maximum expected future reward given that state\n",
    "        action = np.argmax(qtable[state,:])\n",
    "        \n",
    "        new_state, reward, done, truncated, info = env.step(action)\n",
    "        \n",
    "        if done:\n",
    "            # Here, we decide to only print the last state (to see if our agent is on the goal or fall into an hole)\n",
    "            env.render()\n",
    "            \n",
    "            result += reward\n",
    "            # We print the number of step it took.\n",
    "            print(\"Number of steps\", step)\n",
    "            print(\"Reward\",reward)\n",
    "            break\n",
    "        state = new_state\n",
    "\n",
    "print(\"Completionrate\",result/5)\n",
    "env.close()"
   ]
  },
  {
   "cell_type": "code",
   "execution_count": null,
   "metadata": {},
   "outputs": [],
   "source": []
  }
 ],
 "metadata": {
  "kernelspec": {
   "display_name": "Python 3",
   "language": "python",
   "name": "python3"
  },
  "language_info": {
   "codemirror_mode": {
    "name": "ipython",
    "version": 3
   },
   "file_extension": ".py",
   "mimetype": "text/x-python",
   "name": "python",
   "nbconvert_exporter": "python",
   "pygments_lexer": "ipython3",
   "version": "3.8.3"
  }
 },
 "nbformat": 4,
 "nbformat_minor": 2
}
